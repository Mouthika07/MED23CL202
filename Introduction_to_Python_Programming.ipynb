{
  "nbformat": 4,
  "nbformat_minor": 0,
  "metadata": {
    "colab": {
      "provenance": [],
      "include_colab_link": true
    },
    "kernelspec": {
      "name": "python3",
      "display_name": "Python 3"
    },
    "language_info": {
      "name": "python"
    }
  },
  "cells": [
    {
      "cell_type": "markdown",
      "metadata": {
        "id": "view-in-github",
        "colab_type": "text"
      },
      "source": [
        "<a href=\"https://colab.research.google.com/github/Mouthika07/MED23CL202/blob/main/Introduction_to_Python_Programming.ipynb\" target=\"_parent\"><img src=\"https://colab.research.google.com/assets/colab-badge.svg\" alt=\"Open In Colab\"/></a>"
      ]
    },
    {
      "cell_type": "markdown",
      "source": [
        "# **Introduction to Python Programming**"
      ],
      "metadata": {
        "id": "65KYGwJAPPfc"
      }
    },
    {
      "cell_type": "markdown",
      "source": [
        "## **Import Statements**"
      ],
      "metadata": {
        "id": "vYR77VhTPU7r"
      }
    },
    {
      "cell_type": "code",
      "execution_count": null,
      "metadata": {
        "id": "d3GIzYHAK-HT"
      },
      "outputs": [],
      "source": [
        "import os #importing operating system packages\n",
        "# Get the current directory\n",
        "os.getcwd() # cwd stands for current working directory\n",
        "os.chdir('/content/sample_data') # chdir stands for change directory"
      ]
    },
    {
      "cell_type": "markdown",
      "source": [
        "## **Variables and Data Types**"
      ],
      "metadata": {
        "id": "Slhnf-8kPFwc"
      }
    },
    {
      "cell_type": "markdown",
      "source": [
        "**Assigning number to variable**"
      ],
      "metadata": {
        "id": "eWhXntqgQjqD"
      }
    },
    {
      "cell_type": "code",
      "source": [
        "x=5\n",
        "x\n",
        "5\n"
      ],
      "metadata": {
        "colab": {
          "base_uri": "https://localhost:8080/"
        },
        "id": "WXuT3dZFPOhT",
        "outputId": "3cb11ba6-9c0e-45bd-9c49-e24a1b4eb65a"
      },
      "execution_count": null,
      "outputs": [
        {
          "output_type": "execute_result",
          "data": {
            "text/plain": [
              "5"
            ]
          },
          "metadata": {},
          "execution_count": 3
        }
      ]
    },
    {
      "cell_type": "markdown",
      "source": [
        "**Sum of two variables**"
      ],
      "metadata": {
        "id": "zwIaAtH7QKOr"
      }
    },
    {
      "cell_type": "code",
      "source": [
        "x+2"
      ],
      "metadata": {
        "colab": {
          "base_uri": "https://localhost:8080/"
        },
        "id": "d_GU-uY8QUel",
        "outputId": "ba2f1c4d-5036-4359-a324-fd38c28ecbbd"
      },
      "execution_count": null,
      "outputs": [
        {
          "output_type": "execute_result",
          "data": {
            "text/plain": [
              "7"
            ]
          },
          "metadata": {},
          "execution_count": 4
        }
      ]
    },
    {
      "cell_type": "markdown",
      "source": [
        "**Subtraction of two variables**"
      ],
      "metadata": {
        "id": "OSrysEORQsFT"
      }
    },
    {
      "cell_type": "code",
      "source": [
        "x-2"
      ],
      "metadata": {
        "colab": {
          "base_uri": "https://localhost:8080/"
        },
        "id": "gaCzYDeFQyaT",
        "outputId": "c960774c-b0e8-4004-c966-3da2d75b32d4"
      },
      "execution_count": null,
      "outputs": [
        {
          "output_type": "execute_result",
          "data": {
            "text/plain": [
              "3"
            ]
          },
          "metadata": {},
          "execution_count": 5
        }
      ]
    },
    {
      "cell_type": "markdown",
      "source": [
        "**Multiplication of two variables**"
      ],
      "metadata": {
        "id": "nYiHAGbRQ0Yz"
      }
    },
    {
      "cell_type": "code",
      "source": [
        "x*2"
      ],
      "metadata": {
        "colab": {
          "base_uri": "https://localhost:8080/"
        },
        "id": "M-X2nJxeQ48L",
        "outputId": "aefb7519-34c9-413d-c369-81d03a9189dc"
      },
      "execution_count": null,
      "outputs": [
        {
          "output_type": "execute_result",
          "data": {
            "text/plain": [
              "10"
            ]
          },
          "metadata": {},
          "execution_count": 6
        }
      ]
    },
    {
      "cell_type": "markdown",
      "source": [
        "**Division of two variables**"
      ],
      "metadata": {
        "id": "B2tWpVBNQ7Dr"
      }
    },
    {
      "cell_type": "code",
      "source": [
        "x/float(2)"
      ],
      "metadata": {
        "colab": {
          "base_uri": "https://localhost:8080/"
        },
        "id": "dXegliBAQ_1r",
        "outputId": "6ea855c0-b8df-47c3-9802-5017ac574821"
      },
      "execution_count": null,
      "outputs": [
        {
          "output_type": "execute_result",
          "data": {
            "text/plain": [
              "2.5"
            ]
          },
          "metadata": {},
          "execution_count": 7
        }
      ]
    },
    {
      "cell_type": "markdown",
      "source": [
        "**Exponentiation of a variable**"
      ],
      "metadata": {
        "id": "7TMoSRAcRNYL"
      }
    },
    {
      "cell_type": "code",
      "source": [
        "x**2"
      ],
      "metadata": {
        "colab": {
          "base_uri": "https://localhost:8080/"
        },
        "id": "hoTOV0EPRTUT",
        "outputId": "2f03eabb-4aae-44d7-e23d-93279d139c04"
      },
      "execution_count": null,
      "outputs": [
        {
          "output_type": "execute_result",
          "data": {
            "text/plain": [
              "25"
            ]
          },
          "metadata": {},
          "execution_count": 8
        }
      ]
    },
    {
      "cell_type": "markdown",
      "source": [
        "**Reminder of a variable**"
      ],
      "metadata": {
        "id": "_VHgfsXfRVND"
      }
    },
    {
      "cell_type": "code",
      "source": [
        "x%2"
      ],
      "metadata": {
        "colab": {
          "base_uri": "https://localhost:8080/"
        },
        "id": "NQsymRIfRZ57",
        "outputId": "7509225c-625b-4ba2-e312-77400a010f42"
      },
      "execution_count": null,
      "outputs": [
        {
          "output_type": "execute_result",
          "data": {
            "text/plain": [
              "1"
            ]
          },
          "metadata": {},
          "execution_count": 9
        }
      ]
    },
    {
      "cell_type": "markdown",
      "source": [
        "# **Lists**"
      ],
      "metadata": {
        "id": "JIj0eFkhUct0"
      }
    },
    {
      "cell_type": "code",
      "source": [
        "a='is'\n",
        "b='nice'\n",
        "my_list=['my','list',a,b]\n",
        "my_list2=[[4,5,6,7],[3,4,5,6]]"
      ],
      "metadata": {
        "id": "zfFHYfWTUixz"
      },
      "execution_count": null,
      "outputs": []
    },
    {
      "cell_type": "code",
      "source": [
        "my_list[1]\n",
        "my_list[-3]"
      ],
      "metadata": {
        "colab": {
          "base_uri": "https://localhost:8080/",
          "height": 35
        },
        "id": "nqjeR5d-VDwK",
        "outputId": "541636e7-9dee-43a7-caa7-c263437a4fe3"
      },
      "execution_count": null,
      "outputs": [
        {
          "output_type": "execute_result",
          "data": {
            "text/plain": [
              "'list'"
            ],
            "application/vnd.google.colaboratory.intrinsic+json": {
              "type": "string"
            }
          },
          "metadata": {},
          "execution_count": 11
        }
      ]
    },
    {
      "cell_type": "code",
      "source": [
        "my_list[1:3]\n",
        "my_list[1:]\n",
        "my_list[:3]\n",
        "my_list[:]"
      ],
      "metadata": {
        "colab": {
          "base_uri": "https://localhost:8080/"
        },
        "id": "FIsQ5bxOVdcK",
        "outputId": "15af0c44-25a0-4e3e-efed-c2cd120c79f6"
      },
      "execution_count": null,
      "outputs": [
        {
          "output_type": "execute_result",
          "data": {
            "text/plain": [
              "['my', 'list', 'is', 'nice']"
            ]
          },
          "metadata": {},
          "execution_count": 12
        }
      ]
    },
    {
      "cell_type": "code",
      "source": [
        "my_list2[1][0]\n",
        "my_list2[1][:2]"
      ],
      "metadata": {
        "colab": {
          "base_uri": "https://localhost:8080/"
        },
        "id": "A4WLNNZFV1Sy",
        "outputId": "f7197bac-888e-46a0-9fbd-73e3a84a0f85"
      },
      "execution_count": null,
      "outputs": [
        {
          "output_type": "execute_result",
          "data": {
            "text/plain": [
              "[3, 4]"
            ]
          },
          "metadata": {},
          "execution_count": 13
        }
      ]
    },
    {
      "cell_type": "code",
      "source": [],
      "metadata": {
        "id": "vAWRyKLQV--q"
      },
      "execution_count": null,
      "outputs": []
    },
    {
      "cell_type": "code",
      "source": [
        "x=[1,2,3]\n",
        "y=[10,20,30]\n",
        "z=[x,y]\n",
        "print(z)\n",
        "u=x+y\n",
        "print(u)"
      ],
      "metadata": {
        "colab": {
          "base_uri": "https://localhost:8080/"
        },
        "id": "b2rlEUH9X3hx",
        "outputId": "2b0b1267-7d53-455b-c7c3-375f8a327ae2"
      },
      "execution_count": null,
      "outputs": [
        {
          "output_type": "stream",
          "name": "stdout",
          "text": [
            "[[1, 2, 3], [10, 20, 30]]\n",
            "[1, 2, 3, 10, 20, 30]\n"
          ]
        }
      ]
    },
    {
      "cell_type": "markdown",
      "source": [
        "## **Accessing the elements of the list**"
      ],
      "metadata": {
        "id": "T5uCDnU5YUqJ"
      }
    },
    {
      "cell_type": "code",
      "source": [
        "#select the 0th element of the list x\n",
        "print(x)\n",
        "x[0]"
      ],
      "metadata": {
        "colab": {
          "base_uri": "https://localhost:8080/"
        },
        "id": "AJfhkElFYZQ6",
        "outputId": "47916a72-5460-4ac8-d217-ac393c64acdd"
      },
      "execution_count": null,
      "outputs": [
        {
          "output_type": "stream",
          "name": "stdout",
          "text": [
            "[1, 2, 3]\n"
          ]
        },
        {
          "output_type": "execute_result",
          "data": {
            "text/plain": [
              "1"
            ]
          },
          "metadata": {},
          "execution_count": 15
        }
      ]
    },
    {
      "cell_type": "code",
      "source": [
        "#select last element of the list\n",
        "x[-1]"
      ],
      "metadata": {
        "colab": {
          "base_uri": "https://localhost:8080/"
        },
        "id": "2OQ6vyuRYvdb",
        "outputId": "6780b72a-36f2-4887-fab3-838a03311568"
      },
      "execution_count": null,
      "outputs": [
        {
          "output_type": "execute_result",
          "data": {
            "text/plain": [
              "3"
            ]
          },
          "metadata": {},
          "execution_count": 16
        }
      ]
    },
    {
      "cell_type": "code",
      "source": [
        "#select first inclusive to third exclusive\n",
        "x[1:3] # in the range first value is included and last value is excluded"
      ],
      "metadata": {
        "colab": {
          "base_uri": "https://localhost:8080/"
        },
        "id": "ijtMrOzrY-A4",
        "outputId": "aa8e3f6f-4e4f-455f-a710-0d6f3701c2d3"
      },
      "execution_count": null,
      "outputs": [
        {
          "output_type": "execute_result",
          "data": {
            "text/plain": [
              "[2, 3]"
            ]
          },
          "metadata": {},
          "execution_count": 17
        }
      ]
    },
    {
      "cell_type": "code",
      "source": [
        "x1=['a','b','c','d','e']"
      ],
      "metadata": {
        "id": "SbtMd3qjai-5"
      },
      "execution_count": null,
      "outputs": []
    },
    {
      "cell_type": "code",
      "source": [
        "#select second to the end of x1=['a','b','c','d','e']\n",
        "x1[2:]"
      ],
      "metadata": {
        "colab": {
          "base_uri": "https://localhost:8080/"
        },
        "id": "i0EvcbVRZ8Dw",
        "outputId": "9210d826-2992-406d-9af8-e4bc4637a942"
      },
      "execution_count": null,
      "outputs": [
        {
          "output_type": "execute_result",
          "data": {
            "text/plain": [
              "['c', 'd', 'e']"
            ]
          },
          "metadata": {},
          "execution_count": 19
        }
      ]
    },
    {
      "cell_type": "code",
      "source": [
        "#select the 0th to 3rd exclusive of x1=['a','b','c','d','e']\n",
        "x1[:3]"
      ],
      "metadata": {
        "colab": {
          "base_uri": "https://localhost:8080/"
        },
        "id": "NKpKLD-Rays5",
        "outputId": "5d8700a7-bf2a-48ed-f277-d846ba73e879"
      },
      "execution_count": null,
      "outputs": [
        {
          "output_type": "execute_result",
          "data": {
            "text/plain": [
              "['a', 'b', 'c']"
            ]
          },
          "metadata": {},
          "execution_count": 20
        }
      ]
    },
    {
      "cell_type": "code",
      "source": [
        "#List Operations : coma,\"\n",
        "y=[10,20,30]\n",
        "y*2 #scaling the list"
      ],
      "metadata": {
        "colab": {
          "base_uri": "https://localhost:8080/"
        },
        "id": "iR6Ala1bbrhK",
        "outputId": "03aa7f50-a98c-4463-de8d-137ac5f748a3"
      },
      "execution_count": null,
      "outputs": [
        {
          "output_type": "execute_result",
          "data": {
            "text/plain": [
              "[10, 20, 30, 10, 20, 30]"
            ]
          },
          "metadata": {},
          "execution_count": 21
        }
      ]
    },
    {
      "cell_type": "code",
      "source": [
        "y+y # This will only concatenate the list and does not scale the list"
      ],
      "metadata": {
        "colab": {
          "base_uri": "https://localhost:8080/"
        },
        "id": "dIEmHM76b6FR",
        "outputId": "4f678598-6f12-45ec-975b-55a651131bf7"
      },
      "execution_count": null,
      "outputs": [
        {
          "output_type": "execute_result",
          "data": {
            "text/plain": [
              "[10, 20, 30, 10, 20, 30]"
            ]
          },
          "metadata": {},
          "execution_count": 22
        }
      ]
    }
  ]
}