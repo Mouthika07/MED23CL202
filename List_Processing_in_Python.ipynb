{
  "nbformat": 4,
  "nbformat_minor": 0,
  "metadata": {
    "colab": {
      "provenance": [],
      "authorship_tag": "ABX9TyMpd7zInvmSGCvzHO/wsiK/",
      "include_colab_link": true
    },
    "kernelspec": {
      "name": "python3",
      "display_name": "Python 3"
    },
    "language_info": {
      "name": "python"
    }
  },
  "cells": [
    {
      "cell_type": "markdown",
      "metadata": {
        "id": "view-in-github",
        "colab_type": "text"
      },
      "source": [
        "<a href=\"https://colab.research.google.com/github/Mouthika07/MED23CL202/blob/main/List_Processing_in_Python.ipynb\" target=\"_parent\"><img src=\"https://colab.research.google.com/assets/colab-badge.svg\" alt=\"Open In Colab\"/></a>"
      ]
    },
    {
      "cell_type": "markdown",
      "source": [
        "#List processing in Python\n"
      ],
      "metadata": {
        "id": "SfTiz0uYjw4A"
      }
    },
    {
      "cell_type": "markdown",
      "source": [
        "\n",
        "\n",
        "*   STEPS:                                                                                                                          \n",
        "\n",
        "\n",
        "1.   Create a empty result list.\n",
        "2.   Keep a total variable starting at zero.\n",
        "3.   Loop through each number.\n",
        "4.   Add to  total\n",
        "\n",
        "\n",
        "\n"
      ],
      "metadata": {
        "id": "tJICse5VjyVY"
      }
    },
    {
      "cell_type": "code",
      "source": [
        "#Running sum\n",
        "def runningSum(nums):\n",
        "  result=[]#Empty List\n",
        "  total=0 #Initialised total to zero\n",
        "  for n in nums : #Start the loop for running sum\n",
        "     total +=n #Add the value to total\n",
        "     result.append(total) #append the sum to result list\n",
        "  return(result)\n",
        "\n",
        "print(runningSum([10,20,5,1]))"
      ],
      "metadata": {
        "colab": {
          "base_uri": "https://localhost:8080/"
        },
        "id": "ajwXB6wYj8CZ",
        "outputId": "e6fc1a30-5f57-42f3-8ad4-60d80fbd85da"
      },
      "execution_count": null,
      "outputs": [
        {
          "output_type": "stream",
          "name": "stdout",
          "text": [
            "[10, 30, 35, 36]\n"
          ]
        }
      ]
    },
    {
      "cell_type": "code",
      "source": [
        "#Running sum\n",
        "def runningSum(nums):\n",
        "  result=[]#Empty List\n",
        "  total=0 #Initialised total to zero\n",
        "  for n in nums : #Start the loop for running sum\n",
        "     total +=n #Add the value to total\n",
        "  result.append(total) #append the sum to result list\n",
        "  return(result)\n",
        "\n",
        "print(runningSum([10,20,5,1]))"
      ],
      "metadata": {
        "colab": {
          "base_uri": "https://localhost:8080/"
        },
        "id": "Wmhfpr1xkFWw",
        "outputId": "400b42d5-939d-419b-f212-7c89c220a5e8"
      },
      "execution_count": null,
      "outputs": [
        {
          "output_type": "stream",
          "name": "stdout",
          "text": [
            "[36]\n"
          ]
        }
      ]
    },
    {
      "cell_type": "code",
      "source": [
        "# Count even number in a list\n",
        "# Count even numbers:\n",
        "# Sample input:[3,7,2,9,5]\n",
        "# Expected Output:1\n",
        "\n",
        "def CountEven(nums):\n",
        "   count=0\n",
        "   for n in nums:\n",
        "    if n%2==0:\n",
        "      count+=1\n",
        "   return count\n",
        "\n",
        "print(CountEven([3,7,2,1,5]))"
      ],
      "metadata": {
        "colab": {
          "base_uri": "https://localhost:8080/"
        },
        "id": "yHG3iKFvkGJQ",
        "outputId": "5eb9b141-98e9-4fa2-92e0-6c7b2819b0a2"
      },
      "execution_count": null,
      "outputs": [
        {
          "output_type": "stream",
          "name": "stdout",
          "text": [
            "1\n"
          ]
        }
      ]
    },
    {
      "cell_type": "code",
      "source": [
        "#Reverse a list\n",
        "#Reverse a list:\n",
        "#input:[1,2,3,4]\n",
        "#Expected output:[4,3,2,1]\n",
        "\n",
        "def reverseList(nums):\n",
        "  return nums[::-1]\n",
        "\n",
        "print(reverseList([1,2,3,4]))\n",
        "\n",
        "### Slicing the List\n",
        "my_list=[10,5,-1,0,-67]\n",
        "#The list slice from beginning to end,taking every second element\n",
        "print(my_list[::2])"
      ],
      "metadata": {
        "colab": {
          "base_uri": "https://localhost:8080/"
        },
        "id": "-tUWZvf_l204",
        "outputId": "775abdcd-ff97-48fe-b536-cdfe95f4a088"
      },
      "execution_count": null,
      "outputs": [
        {
          "output_type": "stream",
          "name": "stdout",
          "text": [
            "[4, 3, 2, 1]\n",
            "[10, -1, -67]\n"
          ]
        }
      ]
    },
    {
      "cell_type": "markdown",
      "source": [
        ":: in python enables flexible extraction and manipulation of sequence elements\n"
      ],
      "metadata": {
        "id": "2wo6xLpHph72"
      }
    },
    {
      "cell_type": "code",
      "source": [
        "#Find Maximum Number in a list\n",
        "#Input:[3,7,2,9,5]\n",
        "#Expected output:9\n",
        "def FindMax(nums):\n",
        "  max_num=nums[0] #Assign first of list as maximum\n",
        "  for n in nums:\n",
        "    if n> max_num:\n",
        "      max_num = n\n",
        "    return max_num\n",
        "\n",
        "print(FindMax([3,7,2,9,5]))"
      ],
      "metadata": {
        "colab": {
          "base_uri": "https://localhost:8080/"
        },
        "id": "9986RIe4ptP-",
        "outputId": "42206e73-ba58-4cc9-c26f-eecb318ae16a"
      },
      "execution_count": null,
      "outputs": [
        {
          "output_type": "stream",
          "name": "stdout",
          "text": [
            "3\n"
          ]
        }
      ]
    },
    {
      "cell_type": "code",
      "source": [
        "#Merge two sorted list\n",
        "#Input:[1,3,5],[2,4,6]\n",
        "#Expected output:[1,2,3,4,5,6]\n",
        "\n",
        "def mergeList(list1,list2):\n",
        "  return sorted(list1+list2)\n",
        "\n",
        "print(mergeList([1,3,5],[2,4,6]))"
      ],
      "metadata": {
        "colab": {
          "base_uri": "https://localhost:8080/"
        },
        "id": "EdBtjpMDspVm",
        "outputId": "585f4aed-e080-4b29-8a85-12ad9ea36484"
      },
      "execution_count": null,
      "outputs": [
        {
          "output_type": "stream",
          "name": "stdout",
          "text": [
            "[1, 2, 3, 4, 5, 6]\n"
          ]
        }
      ]
    },
    {
      "cell_type": "code",
      "source": [
        "#Square of a sorted list\n",
        "def Sortedsquare(nums):\n",
        "  return sorted([x**2 for x in nums])\n",
        "  #List Comprehension Defines a list based on iteratables that is [x**2 for x in nums]\n",
        "  #is defined to find square of elements in the sorted list\n",
        "print(Sortedsquare([-4,-1,0,3,-50]))"
      ],
      "metadata": {
        "colab": {
          "base_uri": "https://localhost:8080/"
        },
        "id": "jcODAkA-uUzv",
        "outputId": "5d138f9f-4765-48a9-8435-70e8b1350c29"
      },
      "execution_count": null,
      "outputs": [
        {
          "output_type": "stream",
          "name": "stdout",
          "text": [
            "[0, 1, 9, 16, 2500]\n"
          ]
        }
      ]
    },
    {
      "cell_type": "code",
      "source": [
        "def MaxDeposit(accounts):\n",
        "  return max(sum(cust) for cust in accounts)\n",
        "print(MaxDeposit([[100,52],[3,60]]))"
      ],
      "metadata": {
        "colab": {
          "base_uri": "https://localhost:8080/"
        },
        "id": "fD08AAu2vEH-",
        "outputId": "754262e6-0425-4b12-ccfe-ce40516c4621"
      },
      "execution_count": null,
      "outputs": [
        {
          "output_type": "stream",
          "name": "stdout",
          "text": [
            "152\n"
          ]
        }
      ]
    },
    {
      "cell_type": "code",
      "source": [
        "#Find two indices where numbers add upto the target\n",
        "#Input :[ 2,7,,11,15 ] num:26\n",
        "#Expected output : [2,3]\n",
        "def twoSum(nums,target):\n",
        "  #define a dictionary, a key value pair\n",
        "  seen={}\n",
        "  for i,n in enumerate(nums):\n",
        "    diff=target-n\n",
        "    if diff in seen:\n",
        "      return [seen[diff],i]\n",
        "    seen[n]=i\n",
        "    print(seen)\n",
        "print(twoSum([2,7,11,15],26))"
      ],
      "metadata": {
        "colab": {
          "base_uri": "https://localhost:8080/"
        },
        "id": "VKrR8mgTw-Ve",
        "outputId": "e2edab2d-1b8c-411a-c6fd-fa2840c14f05"
      },
      "execution_count": null,
      "outputs": [
        {
          "output_type": "stream",
          "name": "stdout",
          "text": [
            "{2: 0}\n",
            "{2: 0, 7: 1}\n",
            "{2: 0, 7: 1, 11: 2}\n",
            "[2, 3]\n"
          ]
        }
      ]
    }
  ]
}