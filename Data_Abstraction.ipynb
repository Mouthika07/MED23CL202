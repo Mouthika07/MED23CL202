{
  "nbformat": 4,
  "nbformat_minor": 0,
  "metadata": {
    "colab": {
      "provenance": [],
      "authorship_tag": "ABX9TyOuAwXJblg+wvTkOlJbTMEN",
      "include_colab_link": true
    },
    "kernelspec": {
      "name": "python3",
      "display_name": "Python 3"
    },
    "language_info": {
      "name": "python"
    }
  },
  "cells": [
    {
      "cell_type": "markdown",
      "metadata": {
        "id": "view-in-github",
        "colab_type": "text"
      },
      "source": [
        "<a href=\"https://colab.research.google.com/github/Mouthika07/MED23CL202/blob/main/Data_Abstraction.ipynb\" target=\"_parent\"><img src=\"https://colab.research.google.com/assets/colab-badge.svg\" alt=\"Open In Colab\"/></a>"
      ]
    },
    {
      "cell_type": "code",
      "execution_count": null,
      "metadata": {
        "colab": {
          "base_uri": "https://localhost:8080/"
        },
        "id": "MlXAKdVnzAxe",
        "outputId": "ae8868de-a783-4de7-a351-97c4bf6aa75b"
      },
      "outputs": [
        {
          "output_type": "stream",
          "name": "stdout",
          "text": [
            "Coffee is ready\n"
          ]
        }
      ],
      "source": [
        "class CoffeeMachine:\n",
        "  def __init__(self):\n",
        "    self.water = 100\n",
        "\n",
        "  def make_coffee(self):\n",
        "    if self.water >= 100:\n",
        "        self.water -= 10\n",
        "        print(\"Coffee is ready\")\n",
        "    else:\n",
        "      print(\"Water is not enough\")\n",
        "\n",
        "machine = CoffeeMachine()\n",
        "machine.make_coffee()"
      ]
    },
    {
      "cell_type": "code",
      "source": [
        "class BankAccount:\n",
        "  def __init__(self, amount):\n",
        "    self.__balance = 0\n",
        "  def set_balance(self, amount):\n",
        "    self.__balance = amount\n",
        "  def get_balance(self):\n",
        "    return self.__balance\n",
        "account = BankAccount(1000)\n",
        "account.set_balance(1000)\n",
        "print(\"Account balance:\", account.get_balance())"
      ],
      "metadata": {
        "id": "OmpbD4x-6eYs",
        "colab": {
          "base_uri": "https://localhost:8080/"
        },
        "outputId": "47b22786-ec11-43a2-be12-6c6f3f05f2c3"
      },
      "execution_count": 5,
      "outputs": [
        {
          "output_type": "stream",
          "name": "stdout",
          "text": [
            "Account balance: 1000\n"
          ]
        }
      ]
    },
    {
      "cell_type": "code",
      "source": [
        "class Animal:\n",
        "  def move(self):\n",
        "    print(\"Animal moves\")\n",
        "class Bird(Animal):\n",
        "  def fly(self):\n",
        "    print(\"Bird flies\")\n",
        "class Parrot(Bird):\n",
        "  def talk(self):\n",
        "    print(\"Parrot talks\")\n",
        "parrot = Parrot()\n",
        "parrot.move()\n",
        "parrot.fly()\n",
        "parrot.talk()"
      ],
      "metadata": {
        "colab": {
          "base_uri": "https://localhost:8080/"
        },
        "id": "sgtWmdnw8Vmu",
        "outputId": "bec65d0e-3684-4904-fcb3-bafa8d25c108"
      },
      "execution_count": 8,
      "outputs": [
        {
          "output_type": "stream",
          "name": "stdout",
          "text": [
            "Animal moves\n",
            "Bird flies\n",
            "Parrot talks\n"
          ]
        }
      ]
    },
    {
      "cell_type": "code",
      "source": [
        "class King:\n",
        "  def Rules(self):\n",
        "    print(\"The king rules\")\n",
        "class Prince(King):\n",
        "  def Rules(self):\n",
        "    print(\"The prince rules\")\n",
        "king = King()\n",
        "king.Rules()\n",
        "prince = Prince()\n",
        "prince.Rules()"
      ],
      "metadata": {
        "colab": {
          "base_uri": "https://localhost:8080/"
        },
        "id": "5kuO9r4-99E2",
        "outputId": "941057d9-e4cf-4aaa-d1a7-2557448b54a4"
      },
      "execution_count": 9,
      "outputs": [
        {
          "output_type": "stream",
          "name": "stdout",
          "text": [
            "The king rules\n",
            "The prince rules\n"
          ]
        }
      ]
    },
    {
      "cell_type": "code",
      "source": [
        "class Cat:\n",
        "  def sound(self):\n",
        "    print(\"Meow\")\n",
        "class Dog:\n",
        "  def sound(self):\n",
        "    print(\"Bark\")\n",
        "for animal in (Cat(), Dog()):\n",
        "  animal.sound()"
      ],
      "metadata": {
        "colab": {
          "base_uri": "https://localhost:8080/"
        },
        "id": "eO10IxaC_-9G",
        "outputId": "969ef150-f92d-493f-a77a-d8838e76fe59"
      },
      "execution_count": 12,
      "outputs": [
        {
          "output_type": "stream",
          "name": "stdout",
          "text": [
            "Meow\n",
            "Bark\n"
          ]
        }
      ]
    }
  ]
}